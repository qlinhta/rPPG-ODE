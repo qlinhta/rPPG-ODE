{
 "cells": [
  {
   "cell_type": "code",
   "id": "222695b3596703a9",
   "metadata": {
    "collapsed": true,
    "ExecuteTime": {
     "end_time": "2024-07-28T20:20:58.296257Z",
     "start_time": "2024-07-28T20:20:57.318028Z"
    }
   },
   "source": [
    "import torch\n",
    "from torchdiffeq import odeint\n",
    "import torch.nn as nn"
   ],
   "outputs": [],
   "execution_count": 2
  },
  {
   "metadata": {
    "ExecuteTime": {
     "end_time": "2024-07-28T20:21:51.791516Z",
     "start_time": "2024-07-28T20:21:51.786796Z"
    }
   },
   "cell_type": "code",
   "source": [
    "class ODEFunc(nn.Module):\n",
    "    def __init__(self, input_dim):\n",
    "        super(ODEFunc, self).__init__()\n",
    "        self.net = nn.Sequential(\n",
    "            nn.Linear(input_dim, 50),\n",
    "            nn.ReLU(),\n",
    "            nn.Linear(50, input_dim)\n",
    "        )\n",
    "\n",
    "    def forward(self, t, h):\n",
    "        return self.net(h)\n",
    "\n",
    "class NeuralODE(nn.Module):\n",
    "    def __init__(self, ode_func):\n",
    "        super(NeuralODE, self).__init__()\n",
    "        self.ode_func = ode_func\n",
    "\n",
    "    def forward(self, h0, t):\n",
    "        return odeint(self.ode_func, h0, t)"
   ],
   "id": "84ed810e49f52a54",
   "outputs": [],
   "execution_count": 8
  },
  {
   "metadata": {
    "ExecuteTime": {
     "end_time": "2024-07-28T20:21:52.174033Z",
     "start_time": "2024-07-28T20:21:52.163781Z"
    }
   },
   "cell_type": "code",
   "source": [
    "input_dim = 100\n",
    "ode_func = ODEFunc(input_dim)\n",
    "neural_ode = NeuralODE(ode_func)\n",
    "\n",
    "h0 = torch.randn(1, input_dim) \n",
    "t = torch.tensor([0.0, 1.0])\n",
    "hT = neural_ode(h0, t)"
   ],
   "id": "initial_id",
   "outputs": [],
   "execution_count": 9
  },
  {
   "metadata": {},
   "cell_type": "code",
   "outputs": [],
   "execution_count": null,
   "source": "",
   "id": "12d25001b9438719"
  }
 ],
 "metadata": {
  "kernelspec": {
   "display_name": "Python 3",
   "language": "python",
   "name": "python3"
  },
  "language_info": {
   "codemirror_mode": {
    "name": "ipython",
    "version": 2
   },
   "file_extension": ".py",
   "mimetype": "text/x-python",
   "name": "python",
   "nbconvert_exporter": "python",
   "pygments_lexer": "ipython2",
   "version": "2.7.6"
  }
 },
 "nbformat": 4,
 "nbformat_minor": 5
}
